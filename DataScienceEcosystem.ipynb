{
 "cells": [
  {
   "cell_type": "markdown",
   "id": "2d868d21-8da5-4032-903f-b2a879c4ff1f",
   "metadata": {},
   "source": [
    "# Data Science Tools and Ecosystem"
   ]
  },
  {
   "cell_type": "markdown",
   "id": "9573a2a2-1c33-4fa8-9ef7-d81ec114897e",
   "metadata": {},
   "source": [
    "The notebook provides a comprehensive summary for Data Science Tools and Ecosystem"
   ]
  },
  {
   "cell_type": "markdown",
   "id": "df977ef2-d705-48b9-8151-0e22f4dbfb4b",
   "metadata": {},
   "source": [
    "**Objectives:**\n",
    "* List of popular languages\n",
    "* List of commonly used libraries for Data Scientist in Python\n",
    "* List of Open Source Data Science Development Tools"
   ]
  },
  {
   "cell_type": "markdown",
   "id": "330cbb05-9f75-4f39-a698-b62099211649",
   "metadata": {},
   "source": [
    "Some of the popular languages that Data Scientists use are:\n",
    "1. Python  \n",
    "2. R  \n",
    "3. SQL"
   ]
  },
  {
   "cell_type": "markdown",
   "id": "467c07b8-e465-453d-a4a7-1497087f95e1",
   "metadata": {},
   "source": [
    "Some of the commonly used libraries used by Data Scientists include:\n",
    "1. Pandas\n",
    "2. Numpy\n",
    "3. Matplotlib\n",
    "4. Scikit-learn"
   ]
  },
  {
   "cell_type": "markdown",
   "id": "99ee1f22-e7e9-4d00-bdf4-38d5c2c0d62f",
   "metadata": {},
   "source": [
    "Data Science Tools| \n",
    "--- | \n",
    "Jupyter Notebook | \n",
    "Anaconda|\n",
    "SPSS|\n",
    "RStudio|"
   ]
  },
  {
   "cell_type": "markdown",
   "id": "b4893110-d44b-4607-9e43-a0f6ec3fa56a",
   "metadata": {},
   "source": [
    "### Below are a few examples of evaluating arithmetic expressions in Python"
   ]
  },
  {
   "cell_type": "code",
   "execution_count": 2,
   "id": "74194b51-7a70-499f-97cc-8bf56632532d",
   "metadata": {},
   "outputs": [
    {
     "data": {
      "text/plain": [
       "17"
      ]
     },
     "execution_count": 2,
     "metadata": {},
     "output_type": "execute_result"
    }
   ],
   "source": [
    "(3*4)+5\n",
    "# This a simple arithmetic expression to mutiply then add integers"
   ]
  },
  {
   "cell_type": "code",
   "execution_count": 5,
   "id": "ae366ee0-948a-4606-9f24-b9146c71eb92",
   "metadata": {},
   "outputs": [
    {
     "name": "stdout",
     "output_type": "stream",
     "text": [
      "200 mins is 3.3333333333333335 hours\n"
     ]
    }
   ],
   "source": [
    "print(\"200 mins is {0} hours\".format(200/60))\n",
    "# This will convert 200 minutes to hours by diving by 60"
   ]
  },
  {
   "cell_type": "markdown",
   "id": "27e82dc4-0252-4ff2-af51-22df3849dc3e",
   "metadata": {},
   "source": [
    "## Author\n",
    "Honghua Su"
   ]
  }
 ],
 "metadata": {
  "kernelspec": {
   "display_name": "Python",
   "language": "python",
   "name": "conda-env-python-py"
  },
  "language_info": {
   "codemirror_mode": {
    "name": "ipython",
    "version": 3
   },
   "file_extension": ".py",
   "mimetype": "text/x-python",
   "name": "python",
   "nbconvert_exporter": "python",
   "pygments_lexer": "ipython3",
   "version": "3.7.12"
  }
 },
 "nbformat": 4,
 "nbformat_minor": 5
}
